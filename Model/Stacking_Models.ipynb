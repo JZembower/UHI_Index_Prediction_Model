{
 "cells": [
  {
   "cell_type": "code",
   "execution_count": null,
   "metadata": {},
   "outputs": [],
   "source": [
    "#^^^^^^^^^^^^^^^^^^^^^^^^^^^^^^^^^^^^^^^^^^\n",
    "# Name: Jonah Zembower\n",
    "# Date: March 11, 2025\n",
    "# Project: EY 2025 Data Science Challenge\n",
    "#^^^^^^^^^^^^^^^^^^^^^^^^^^^^^^^^^^^^^^^^^^"
   ]
  },
  {
   "cell_type": "markdown",
   "metadata": {},
   "source": [
    "# Introduction:"
   ]
  },
  {
   "cell_type": "markdown",
   "metadata": {},
   "source": [
    "We have had a lot of success with different methods having an accuracy of 0.92. Now, we are going to try a new method of stacking these models together to see if we can come up with better results."
   ]
  },
  {
   "cell_type": "markdown",
   "metadata": {},
   "source": [
    "# Libraries and Data:\n"
   ]
  },
  {
   "cell_type": "markdown",
   "metadata": {},
   "source": [
    "Importing necessary libraries:"
   ]
  },
  {
   "cell_type": "code",
   "execution_count": 1,
   "metadata": {},
   "outputs": [],
   "source": [
    "# Supress Warnings \n",
    "import warnings\n",
    "warnings.filterwarnings('ignore')\n",
    "\n",
    "# Import common libraries\n",
    "import numpy as np\n",
    "import pandas as pd\n",
    "import matplotlib.pyplot as plt\n",
    "\n",
    "# For the geodataframe\n",
    "import geopandas as gpd\n",
    "from shapely import wkt\n",
    "from scipy.spatial import cKDTree\n",
    "\n",
    "# Stacking libraries\n",
    "from sklearn.model_selection import train_test_split\n",
    "from sklearn.preprocessing import StandardScaler\n",
    "from scipy.spatial import cKDTree\n",
    "from sklearn.metrics import mean_absolute_error, mean_squared_error\n",
    "from lightgbm import LGBMRegressor\n",
    "from sklearn.ensemble import StackingRegressor\n",
    "from sklearn.linear_model import Ridge\n",
    "from sklearn.ensemble import RandomForestRegressor\n",
    "from xgboost import XGBRegressor"
   ]
  },
  {
   "cell_type": "markdown",
   "metadata": {},
   "source": [
    "Importing Data:"
   ]
  },
  {
   "cell_type": "code",
   "execution_count": 2,
   "metadata": {},
   "outputs": [],
   "source": [
    "# Satellite Data:\n",
    "all_bands_granular = pd.read_csv(\"C:\\\\Users\\\\jrzem\\\\OneDrive\\\\Desktop\\\\EY Dataset\\\\Satellite Data\\\\all_bands_granular.csv\")\n",
    "all_bands_noisy_proximity = pd.read_csv(\"C:\\\\Users\\\\jrzem\\\\OneDrive\\\\Desktop\\\\EY Dataset\\\\Satellite Data\\\\all_bands_noisy_proximity.csv\")\n",
    "all_bands_proximity_noisy = pd.read_csv(\"C:\\\\Users\\\\jrzem\\\\OneDrive\\\\Desktop\\\\EY Dataset\\\\Satellite Data\\\\all_bands_proximity_noisy.csv\")\n",
    "all_bands_proximity_rounded_3 = pd.read_csv(\"C:\\\\Users\\\\jrzem\\\\OneDrive\\\\Desktop\\\\EY Dataset\\\\Satellite Data\\\\all_bands_proximity_rounded_3.csv\")\n",
    "all_bands_proximity_rounded_3_mapped = pd.read_csv(\"C:\\\\Users\\\\jrzem\\\\OneDrive\\\\Desktop\\\\EY Dataset\\\\Satellite Data\\\\all_bands_proximity_rounded_3_mapped.csv\")\n",
    "indices_granular = pd.read_csv(\"C:\\\\Users\\\\jrzem\\\\OneDrive\\\\Desktop\\\\EY Dataset\\\\Satellite Data\\\\indices_granular.csv\")\n",
    "landsat_thermal_granular = pd.read_csv(\"C:\\\\Users\\\\jrzem\\\\OneDrive\\\\Desktop\\\\EY Dataset\\\\Satellite Data\\\\landsat_thermal_granular.csv\")\n",
    "noisy_long_lat_uhi = pd.read_csv(\"C:\\\\Users\\\\jrzem\\\\OneDrive\\\\Desktop\\\\EY Dataset\\\\Satellite Data\\\\noisy_long_lat_uhi.csv\")\n",
    "noisy_5_bands_proxmity = pd.read_csv(\"C:\\\\Users\\\\jrzem\\\\Downloads\\\\5_noisy_all_bands_proximity.csv\")"
   ]
  },
  {
   "cell_type": "code",
   "execution_count": 3,
   "metadata": {},
   "outputs": [],
   "source": [
    "# Elevation Data:\n",
    "all_elevation_nyc = pd.read_csv(\"C:\\\\Users\\\\jrzem\\OneDrive\\\\Desktop\\\\EY Dataset\\\\Elevation\\\\all_elevation_nyc.csv\")"
   ]
  },
  {
   "cell_type": "code",
   "execution_count": 4,
   "metadata": {},
   "outputs": [],
   "source": [
    "# Load the test data\n",
    "test_data = pd.read_csv(\"C:\\\\Users\\\\jrzem\\\\OneDrive\\\\Desktop\\\\EY Dataset\\\\Submission_template.csv\")"
   ]
  },
  {
   "cell_type": "markdown",
   "metadata": {},
   "source": [
    "# Stacking Models:"
   ]
  },
  {
   "cell_type": "markdown",
   "metadata": {},
   "source": [
    "1. sentinel (BO1, BO6 proximity) and elevation (building height only and natural elevation proximity)"
   ]
  },
  {
   "cell_type": "code",
   "execution_count": null,
   "metadata": {},
   "outputs": [],
   "source": [
    "all_bands_elevation_2 = all_bands_proximity_rounded_3_mapped.merge(all_elevation_nyc[['Longitude', 'Latitude', 'Building Height Only Proximity','Natural Proximity']], on=['Longitude', 'Latitude'])\n",
    "all_bands_elevation_2\n",
    "\n",
    "# Save to CSV\n",
    "all_bands_elevation_2.to_csv(\"C:\\\\Users\\\\jrzem\\\\OneDrive\\\\Desktop\\\\EY Dataset\\\\Satellite Data\\\\all_bands_elevation_2.csv\", index=False)\n",
    "\n",
    "# Load dataset\n",
    "all_bands_elevation_2 = pd.read_csv(\"C:\\\\Users\\\\jrzem\\\\OneDrive\\\\Desktop\\\\EY Dataset\\\\Satellite Data\\\\all_bands_elevation_2.csv\")"
   ]
  },
  {
   "cell_type": "code",
   "execution_count": 10,
   "metadata": {},
   "outputs": [],
   "source": [
    "# Load dataset\n",
    "df = all_bands_elevation_2.copy()\n",
    "\n",
    "# Define spectral features\n",
    "spectral_features = ['BO1', 'BO6', 'Building Height Only Proximity','Natural Proximity']\n",
    "\n",
    "# Select features and target\n",
    "X = df[spectral_features]\n",
    "y = df['UHI Index']\n",
    "\n",
    "# Train-test split (80-20)\n",
    "X_train, X_test, y_train, y_test = train_test_split(X, y, test_size=0.2, random_state=42)\n",
    "\n",
    "# Standardization (Not necessary for Random Forest but kept for consistency)\n",
    "scaler = StandardScaler()\n",
    "X_train_scaled = scaler.fit_transform(X_train)\n",
    "X_test_scaled = scaler.transform(X_test)"
   ]
  },
  {
   "cell_type": "code",
   "execution_count": 11,
   "metadata": {},
   "outputs": [
    {
     "name": "stdout",
     "output_type": "stream",
     "text": [
      "[LightGBM] [Info] Auto-choosing col-wise multi-threading, the overhead of testing was 0.000101 seconds.\n",
      "You can set `force_col_wise=true` to remove the overhead.\n",
      "[LightGBM] [Info] Total Bins 1018\n",
      "[LightGBM] [Info] Number of data points in the train set: 8983, number of used features: 4\n",
      "[LightGBM] [Info] Start training from score 1.000008\n",
      "[LightGBM] [Info] Auto-choosing col-wise multi-threading, the overhead of testing was 0.000087 seconds.\n",
      "You can set `force_col_wise=true` to remove the overhead.\n",
      "[LightGBM] [Info] Total Bins 1018\n",
      "[LightGBM] [Info] Number of data points in the train set: 7186, number of used features: 4\n",
      "[LightGBM] [Info] Start training from score 1.000045\n",
      "[LightGBM] [Warning] No further splits with positive gain, best gain: -inf\n",
      "[LightGBM] [Info] Auto-choosing col-wise multi-threading, the overhead of testing was 0.000107 seconds.\n",
      "You can set `force_col_wise=true` to remove the overhead.\n",
      "[LightGBM] [Info] Total Bins 1018\n",
      "[LightGBM] [Info] Number of data points in the train set: 7186, number of used features: 4\n",
      "[LightGBM] [Info] Start training from score 0.999930\n",
      "[LightGBM] [Info] Auto-choosing col-wise multi-threading, the overhead of testing was 0.000142 seconds.\n",
      "You can set `force_col_wise=true` to remove the overhead.\n",
      "[LightGBM] [Info] Total Bins 1019\n",
      "[LightGBM] [Info] Number of data points in the train set: 7186, number of used features: 4\n",
      "[LightGBM] [Info] Start training from score 0.999939\n",
      "[LightGBM] [Info] Auto-choosing col-wise multi-threading, the overhead of testing was 0.000156 seconds.\n",
      "You can set `force_col_wise=true` to remove the overhead.\n",
      "[LightGBM] [Info] Total Bins 1019\n",
      "[LightGBM] [Info] Number of data points in the train set: 7187, number of used features: 4\n",
      "[LightGBM] [Info] Start training from score 1.000096\n",
      "[LightGBM] [Info] Auto-choosing col-wise multi-threading, the overhead of testing was 0.000097 seconds.\n",
      "You can set `force_col_wise=true` to remove the overhead.\n",
      "[LightGBM] [Info] Total Bins 1018\n",
      "[LightGBM] [Info] Number of data points in the train set: 7187, number of used features: 4\n",
      "[LightGBM] [Info] Start training from score 1.000030\n",
      "Stacked Model Performance:\n",
      " - MAE: 0.0039\n",
      " - RMSE: 0.0051\n"
     ]
    }
   ],
   "source": [
    "# Define base models\n",
    "base_models = [\n",
    "    ('rf', RandomForestRegressor(n_estimators=100, random_state=42)),\n",
    "    ('xgb', XGBRegressor(n_estimators=300, learning_rate=0.1, max_depth=9, random_state=42)),\n",
    "    ('lgb', LGBMRegressor(n_estimators=300, learning_rate=0.1, max_depth=15, random_state=42))\n",
    "]\n",
    "\n",
    "# Meta-learner (final model)\n",
    "stack_model = StackingRegressor(estimators=base_models, final_estimator=Ridge())\n",
    "\n",
    "# Train model\n",
    "stack_model.fit(X_train_scaled, y_train)\n",
    "\n",
    "# Predict & evaluate\n",
    "y_pred_stack = stack_model.predict(X_test_scaled)\n",
    "mae_stack = mean_absolute_error(y_test, y_pred_stack)\n",
    "rmse_stack = np.sqrt(mean_squared_error(y_test, y_pred_stack))\n",
    "\n",
    "print(f\"Stacked Model Performance:\\n - MAE: {mae_stack:.4f}\\n - RMSE: {rmse_stack:.4f}\")\n"
   ]
  },
  {
   "cell_type": "code",
   "execution_count": 12,
   "metadata": {},
   "outputs": [],
   "source": [
    "def add_nearest_data(uhi_data: pd.DataFrame, data_to_map: pd.DataFrame) -> pd.DataFrame:\n",
    "    \"\"\"\n",
    "    Adds nearest spectral data to submission dataset using KDTree.\n",
    "\n",
    "    Parameters:\n",
    "        uhi_data (pd.DataFrame): DataFrame containing submission locations (Latitude, Longitude).\n",
    "        data_to_map (pd.DataFrame): DataFrame containing spectral band values.\n",
    "\n",
    "    Returns:\n",
    "        pd.DataFrame: Submission dataset with matched spectral data.\n",
    "    \"\"\"\n",
    "    # Extract coordinates\n",
    "    elevation_coords = np.array(list(zip(data_to_map[\"Latitude\"], data_to_map[\"Longitude\"])))\n",
    "    uhi_coords = np.array(list(zip(uhi_data[\"Latitude\"], uhi_data[\"Longitude\"])))\n",
    "    \n",
    "    # Build KDTree\n",
    "    tree = cKDTree(elevation_coords)\n",
    "    \n",
    "    # Find nearest neighbors\n",
    "    _, indices = tree.query(uhi_coords)\n",
    "    \n",
    "    # Add matched spectral data\n",
    "    uhi_data = uhi_data.copy()\n",
    "    for col in spectral_features:\n",
    "        uhi_data[col] = data_to_map.iloc[indices][col].values\n",
    "    \n",
    "    return uhi_data\n",
    "\n",
    "# Match spectral features for submission data\n",
    "submission_all_bands_elevation = add_nearest_data(test_data, all_bands_elevation_2)"
   ]
  },
  {
   "cell_type": "code",
   "execution_count": 13,
   "metadata": {},
   "outputs": [],
   "source": [
    "# Prepare submission data for prediction\n",
    "x_submission_test = submission_all_bands_elevation[spectral_features]\n",
    "\n",
    "# Standardize submission data using the same scaler\n",
    "x_submission_test_scaled = scaler.transform(x_submission_test)\n",
    "\n",
    "# Make predictions\n",
    "submission_predictions = stack_model.predict(x_submission_test_scaled)\n",
    "\n",
    "# Add predictions to submission DataFrame\n",
    "submission_all_bands_elevation[\"UHI Index\"] = submission_predictions"
   ]
  },
  {
   "cell_type": "code",
   "execution_count": 14,
   "metadata": {},
   "outputs": [
    {
     "data": {
      "image/png": "[encoded data removed]",
      "text/plain": [
       "<Figure size 1000x600 with 1 Axes>"
      ]
     },
     "metadata": {},
     "output_type": "display_data"
    },
    {
     "data": {
      "image/png": "[encoded data removed]",
      "text/plain": [
       "<Figure size 1000x600 with 1 Axes>"
      ]
     },
     "metadata": {},
     "output_type": "display_data"
    }
   ],
   "source": [
    "# Plot predictions\n",
    "plt.figure(figsize=(10, 6))\n",
    "plt.hist(submission_predictions, bins=50, color='skyblue', edgecolor='black')\n",
    "plt.xlabel('Predicted UHI Index')\n",
    "plt.ylabel('Frequency')\n",
    "plt.title('Predicted UHI Index Distribution')\n",
    "plt.show()\n",
    "\n",
    "# Plot Residuals\n",
    "plt.figure(figsize=(10, 6))\n",
    "plt.hist(y_test - y_pred_stack, bins=50, color='skyblue', edgecolor='black')\n",
    "plt.xlabel('Residuals')\n",
    "plt.ylabel('Frequency')\n",
    "plt.title('Residuals Distribution')\n",
    "plt.show()"
   ]
  },
  {
   "cell_type": "code",
   "execution_count": 16,
   "metadata": {},
   "outputs": [],
   "source": [
    "# Load the final submission\n",
    "submission_all_bands_elevation_final = submission_all_bands_elevation[['Longitude', 'Latitude', 'UHI Index']]\n",
    "submission_all_bands_elevation_final.to_csv(\"C:\\\\Users\\\\jrzem\\\\Downloads\\\\submission_all_bands_elevation.csv\", index=False)"
   ]
  },
  {
   "cell_type": "markdown",
   "metadata": {},
   "source": [
    "This was slightly worse with 0.9063 accuracy when submitted. "
   ]
  },
  {
   "cell_type": "markdown",
   "metadata": {},
   "source": [
    "### Model 2:"
   ]
  },
  {
   "cell_type": "code",
   "execution_count": null,
   "metadata": {},
   "outputs": [],
   "source": [
    "all_bands_elevation_5_noisy = noisy_5_bands_proxmity.merge(all_elevation_nyc[['Longitude', 'Latitude', 'Building Height Only Proximity','Natural Proximity']], on=['Longitude', 'Latitude'])\n",
    "all_bands_elevation_5_noisy\n",
    "\n",
    "# Save to CSV\n",
    "all_bands_elevation_5_noisy.to_csv(\"C:\\\\Users\\\\jrzem\\\\OneDrive\\\\Desktop\\\\EY Dataset\\\\Satellite Data\\\\all_bands_elevation_5_noisy.csv\", index=False)\n",
    "\n",
    "# Load dataset\n",
    "all_bands_elevation_5_noisy = pd.read_csv(\"C:\\\\Users\\\\jrzem\\\\OneDrive\\\\Desktop\\\\EY Dataset\\\\Satellite Data\\\\all_bands_elevation_5_noisy.csv\")"
   ]
  },
  {
   "cell_type": "code",
   "execution_count": 6,
   "metadata": {},
   "outputs": [],
   "source": [
    "# Load dataset\n",
    "df = all_bands_elevation_5_noisy.copy()\n",
    "\n",
    "# Define spectral features\n",
    "spectral_features = ['BO1', 'BO6', 'Building Height Only Proximity','Natural Proximity']\n",
    "\n",
    "# Select features and target\n",
    "X = df[spectral_features]\n",
    "y = df['UHI Index']\n",
    "\n",
    "# Train-test split (80-20)\n",
    "X_train, X_test, y_train, y_test = train_test_split(X, y, test_size=0.2, random_state=42)\n",
    "\n",
    "# Standardization (Not necessary for Random Forest but kept for consistency)\n",
    "scaler = StandardScaler()\n",
    "X_train_scaled = scaler.fit_transform(X_train)\n",
    "X_test_scaled = scaler.transform(X_test)"
   ]
  },
  {
   "cell_type": "code",
   "execution_count": 7,
   "metadata": {},
   "outputs": [
    {
     "name": "stdout",
     "output_type": "stream",
     "text": [
      "[LightGBM] [Info] Auto-choosing col-wise multi-threading, the overhead of testing was 0.000118 seconds.\n",
      "You can set `force_col_wise=true` to remove the overhead.\n",
      "[LightGBM] [Info] Total Bins 1017\n",
      "[LightGBM] [Info] Number of data points in the train set: 8983, number of used features: 4\n",
      "[LightGBM] [Info] Start training from score 1.000008\n",
      "[LightGBM] [Info] Auto-choosing col-wise multi-threading, the overhead of testing was 0.000105 seconds.\n",
      "You can set `force_col_wise=true` to remove the overhead.\n",
      "[LightGBM] [Info] Total Bins 1017\n",
      "[LightGBM] [Info] Number of data points in the train set: 7186, number of used features: 4\n",
      "[LightGBM] [Info] Start training from score 1.000045\n",
      "[LightGBM] [Info] Auto-choosing col-wise multi-threading, the overhead of testing was 0.000122 seconds.\n",
      "You can set `force_col_wise=true` to remove the overhead.\n",
      "[LightGBM] [Info] Total Bins 1018\n",
      "[LightGBM] [Info] Number of data points in the train set: 7186, number of used features: 4\n",
      "[LightGBM] [Info] Start training from score 0.999930\n",
      "[LightGBM] [Info] Auto-choosing col-wise multi-threading, the overhead of testing was 0.000084 seconds.\n",
      "You can set `force_col_wise=true` to remove the overhead.\n",
      "[LightGBM] [Info] Total Bins 1018\n",
      "[LightGBM] [Info] Number of data points in the train set: 7186, number of used features: 4\n",
      "[LightGBM] [Info] Start training from score 0.999939\n",
      "[LightGBM] [Info] Auto-choosing col-wise multi-threading, the overhead of testing was 0.000128 seconds.\n",
      "You can set `force_col_wise=true` to remove the overhead.\n",
      "[LightGBM] [Info] Total Bins 1019\n",
      "[LightGBM] [Info] Number of data points in the train set: 7187, number of used features: 4\n",
      "[LightGBM] [Info] Start training from score 1.000096\n",
      "[LightGBM] [Info] Auto-choosing col-wise multi-threading, the overhead of testing was 0.000095 seconds.\n",
      "You can set `force_col_wise=true` to remove the overhead.\n",
      "[LightGBM] [Info] Total Bins 1016\n",
      "[LightGBM] [Info] Number of data points in the train set: 7187, number of used features: 4\n",
      "[LightGBM] [Info] Start training from score 1.000030\n",
      "Stacked Model Performance:\n",
      " - MAE: 0.0039\n",
      " - RMSE: 0.0051\n"
     ]
    }
   ],
   "source": [
    "# Define base models\n",
    "base_models = [\n",
    "    ('rf', RandomForestRegressor(n_estimators=100, random_state=42)),\n",
    "    ('xgb', XGBRegressor(n_estimators=300, learning_rate=0.1, max_depth=9, random_state=42)),\n",
    "    ('lgb', LGBMRegressor(n_estimators=300, learning_rate=0.1, max_depth=15, random_state=42))\n",
    "]\n",
    "\n",
    "# Meta-learner (final model)\n",
    "stack_model = StackingRegressor(estimators=base_models, final_estimator=Ridge())\n",
    "\n",
    "# Train model\n",
    "stack_model.fit(X_train_scaled, y_train)\n",
    "\n",
    "# Predict & evaluate\n",
    "y_pred_stack = stack_model.predict(X_test_scaled)\n",
    "mae_stack = mean_absolute_error(y_test, y_pred_stack)\n",
    "rmse_stack = np.sqrt(mean_squared_error(y_test, y_pred_stack))\n",
    "\n",
    "print(f\"Stacked Model Performance:\\n - MAE: {mae_stack:.4f}\\n - RMSE: {rmse_stack:.4f}\")\n"
   ]
  },
  {
   "cell_type": "code",
   "execution_count": 8,
   "metadata": {},
   "outputs": [],
   "source": [
    "def add_nearest_data(uhi_data: pd.DataFrame, data_to_map: pd.DataFrame) -> pd.DataFrame:\n",
    "    \"\"\"\n",
    "    Adds nearest spectral data to submission dataset using KDTree.\n",
    "\n",
    "    Parameters:\n",
    "        uhi_data (pd.DataFrame): DataFrame containing submission locations (Latitude, Longitude).\n",
    "        data_to_map (pd.DataFrame): DataFrame containing spectral band values.\n",
    "\n",
    "    Returns:\n",
    "        pd.DataFrame: Submission dataset with matched spectral data.\n",
    "    \"\"\"\n",
    "    # Extract coordinates\n",
    "    elevation_coords = np.array(list(zip(data_to_map[\"Latitude\"], data_to_map[\"Longitude\"])))\n",
    "    uhi_coords = np.array(list(zip(uhi_data[\"Latitude\"], uhi_data[\"Longitude\"])))\n",
    "    \n",
    "    # Build KDTree\n",
    "    tree = cKDTree(elevation_coords)\n",
    "    \n",
    "    # Find nearest neighbors\n",
    "    _, indices = tree.query(uhi_coords)\n",
    "    \n",
    "    # Add matched spectral data\n",
    "    uhi_data = uhi_data.copy()\n",
    "    for col in spectral_features:\n",
    "        uhi_data[col] = data_to_map.iloc[indices][col].values\n",
    "    \n",
    "    return uhi_data\n",
    "\n",
    "# Match spectral features for submission data\n",
    "submission_all_bands_elevation = add_nearest_data(test_data, all_bands_elevation_5_noisy)"
   ]
  },
  {
   "cell_type": "code",
   "execution_count": 9,
   "metadata": {},
   "outputs": [],
   "source": [
    "# Prepare submission data for prediction\n",
    "x_submission_test = submission_all_bands_elevation[spectral_features]\n",
    "\n",
    "# Standardize submission data using the same scaler\n",
    "x_submission_test_scaled = scaler.transform(x_submission_test)\n",
    "\n",
    "# Make predictions\n",
    "submission_predictions = stack_model.predict(x_submission_test_scaled)\n",
    "\n",
    "# Add predictions to submission DataFrame\n",
    "submission_all_bands_elevation[\"UHI Index\"] = submission_predictions"
   ]
  },
  {
   "cell_type": "code",
   "execution_count": 10,
   "metadata": {},
   "outputs": [
    {
     "data": {
      "image/png": "[encoded data removed]",
      "text/plain": [
       "<Figure size 1000x600 with 1 Axes>"
      ]
     },
     "metadata": {},
     "output_type": "display_data"
    },
    {
     "data": {
      "image/png": "[encoded data removed]",
      "text/plain": [
       "<Figure size 1000x600 with 1 Axes>"
      ]
     },
     "metadata": {},
     "output_type": "display_data"
    }
   ],
   "source": [
    "# Plot predictions\n",
    "plt.figure(figsize=(10, 6))\n",
    "plt.hist(submission_predictions, bins=50, color='skyblue', edgecolor='black')\n",
    "plt.xlabel('Predicted UHI Index')\n",
    "plt.ylabel('Frequency')\n",
    "plt.title('Predicted UHI Index Distribution')\n",
    "plt.show()\n",
    "\n",
    "# Plot Residuals\n",
    "plt.figure(figsize=(10, 6))\n",
    "plt.hist(y_test - y_pred_stack, bins=50, color='skyblue', edgecolor='black')\n",
    "plt.xlabel('Residuals')\n",
    "plt.ylabel('Frequency')\n",
    "plt.title('Residuals Distribution')\n",
    "plt.show()"
   ]
  },
  {
   "cell_type": "code",
   "execution_count": 11,
   "metadata": {},
   "outputs": [],
   "source": [
    "# Load the final submission\n",
    "submission_all_bands_elevation_final = submission_all_bands_elevation[['Longitude', 'Latitude', 'UHI Index']]\n",
    "submission_all_bands_elevation_final.to_csv(\"C:\\\\Users\\\\jrzem\\\\Downloads\\\\submission_all_bands_elevation.csv\", index=False)"
   ]
  },
  {
   "cell_type": "markdown",
   "metadata": {},
   "source": [
    "This got a 0.9081."
   ]
  },
  {
   "cell_type": "markdown",
   "metadata": {},
   "source": [
    "# Conclusion:"
   ]
  }
 ],
 "metadata": {
  "kernelspec": {
   "display_name": ".venv",
   "language": "python",
   "name": "python3"
  },
  "language_info": {
   "codemirror_mode": {
    "name": "ipython",
    "version": 3
   },
   "file_extension": ".py",
   "mimetype": "text/x-python",
   "name": "python",
   "nbconvert_exporter": "python",
   "pygments_lexer": "ipython3",
   "version": "3.12.9"
  }
 },
 "nbformat": 4,
 "nbformat_minor": 2
}
